{
 "cells": [
  {
   "cell_type": "code",
   "execution_count": 1,
   "id": "5d124186-c54a-47d4-a1ad-28d0f91bfeeb",
   "metadata": {},
   "outputs": [],
   "source": [
    "import pandas as pd"
   ]
  },
  {
   "cell_type": "code",
   "execution_count": 3,
   "id": "2a610746-98a8-40e4-9b46-ed024131c5dd",
   "metadata": {},
   "outputs": [],
   "source": [
    "df = pd.read_excel(\"comorbid.xlsx\")"
   ]
  },
  {
   "cell_type": "code",
   "execution_count": 5,
   "id": "47b55532-75d6-4566-a20a-b0c9fa669665",
   "metadata": {},
   "outputs": [
    {
     "data": {
      "text/plain": [
       "pandas.core.frame.DataFrame"
      ]
     },
     "execution_count": 5,
     "metadata": {},
     "output_type": "execute_result"
    }
   ],
   "source": [
    "type(df)"
   ]
  },
  {
   "cell_type": "code",
   "execution_count": 7,
   "id": "a52d58db-95a1-43a0-a495-efcd123331f9",
   "metadata": {},
   "outputs": [
    {
     "data": {
      "text/html": [
       "<div>\n",
       "<style scoped>\n",
       "    .dataframe tbody tr th:only-of-type {\n",
       "        vertical-align: middle;\n",
       "    }\n",
       "\n",
       "    .dataframe tbody tr th {\n",
       "        vertical-align: top;\n",
       "    }\n",
       "\n",
       "    .dataframe thead th {\n",
       "        text-align: right;\n",
       "    }\n",
       "</style>\n",
       "<table border=\"1\" class=\"dataframe\">\n",
       "  <thead>\n",
       "    <tr style=\"text-align: right;\">\n",
       "      <th></th>\n",
       "      <th>Age</th>\n",
       "      <th>Grade</th>\n",
       "      <th>Logistics</th>\n",
       "      <th>Temperature</th>\n",
       "      <th>Pneumonia</th>\n",
       "      <th>Hypertension</th>\n",
       "      <th>DiabetesMellitus</th>\n",
       "    </tr>\n",
       "  </thead>\n",
       "  <tbody>\n",
       "    <tr>\n",
       "      <th>0</th>\n",
       "      <td>77</td>\n",
       "      <td>B</td>\n",
       "      <td>Immediate Surgical intervention(then Ward / IC...</td>\n",
       "      <td>37.4</td>\n",
       "      <td>No</td>\n",
       "      <td>No</td>\n",
       "      <td>No</td>\n",
       "    </tr>\n",
       "    <tr>\n",
       "      <th>1</th>\n",
       "      <td>64</td>\n",
       "      <td>A</td>\n",
       "      <td>Admit to Ward for Care</td>\n",
       "      <td>38.0</td>\n",
       "      <td>No</td>\n",
       "      <td>Yes</td>\n",
       "      <td>No</td>\n",
       "    </tr>\n",
       "    <tr>\n",
       "      <th>2</th>\n",
       "      <td>87</td>\n",
       "      <td>A</td>\n",
       "      <td>Admit to Ward for Care</td>\n",
       "      <td>38.5</td>\n",
       "      <td>No</td>\n",
       "      <td>No</td>\n",
       "      <td>No</td>\n",
       "    </tr>\n",
       "    <tr>\n",
       "      <th>3</th>\n",
       "      <td>70</td>\n",
       "      <td>A</td>\n",
       "      <td>Admit to Ward for Care</td>\n",
       "      <td>38.2</td>\n",
       "      <td>No</td>\n",
       "      <td>No</td>\n",
       "      <td>No</td>\n",
       "    </tr>\n",
       "    <tr>\n",
       "      <th>4</th>\n",
       "      <td>85</td>\n",
       "      <td>B</td>\n",
       "      <td>Admit to Ward for Care</td>\n",
       "      <td>38.1</td>\n",
       "      <td>No</td>\n",
       "      <td>Yes</td>\n",
       "      <td>No</td>\n",
       "    </tr>\n",
       "  </tbody>\n",
       "</table>\n",
       "</div>"
      ],
      "text/plain": [
       "   Age Grade                                          Logistics  Temperature  \\\n",
       "0   77     B  Immediate Surgical intervention(then Ward / IC...         37.4   \n",
       "1   64     A                             Admit to Ward for Care         38.0   \n",
       "2   87     A                             Admit to Ward for Care         38.5   \n",
       "3   70     A                             Admit to Ward for Care         38.2   \n",
       "4   85     B                             Admit to Ward for Care         38.1   \n",
       "\n",
       "  Pneumonia Hypertension DiabetesMellitus  \n",
       "0        No           No               No  \n",
       "1        No          Yes               No  \n",
       "2        No           No               No  \n",
       "3        No           No               No  \n",
       "4        No          Yes               No  "
      ]
     },
     "execution_count": 7,
     "metadata": {},
     "output_type": "execute_result"
    }
   ],
   "source": [
    "df.head()"
   ]
  },
  {
   "cell_type": "code",
   "execution_count": 9,
   "id": "7fa51d84-44c9-47a7-b41f-ed03784de0fd",
   "metadata": {},
   "outputs": [
    {
     "data": {
      "text/html": [
       "<div>\n",
       "<style scoped>\n",
       "    .dataframe tbody tr th:only-of-type {\n",
       "        vertical-align: middle;\n",
       "    }\n",
       "\n",
       "    .dataframe tbody tr th {\n",
       "        vertical-align: top;\n",
       "    }\n",
       "\n",
       "    .dataframe thead th {\n",
       "        text-align: right;\n",
       "    }\n",
       "</style>\n",
       "<table border=\"1\" class=\"dataframe\">\n",
       "  <thead>\n",
       "    <tr style=\"text-align: right;\">\n",
       "      <th></th>\n",
       "      <th>Age</th>\n",
       "      <th>Grade</th>\n",
       "      <th>Logistics</th>\n",
       "      <th>Temperature</th>\n",
       "      <th>Pneumonia</th>\n",
       "      <th>Hypertension</th>\n",
       "      <th>DiabetesMellitus</th>\n",
       "    </tr>\n",
       "  </thead>\n",
       "  <tbody>\n",
       "    <tr>\n",
       "      <th>592</th>\n",
       "      <td>54</td>\n",
       "      <td>A</td>\n",
       "      <td>Admit to Ward for Care</td>\n",
       "      <td>39.9</td>\n",
       "      <td>No</td>\n",
       "      <td>No</td>\n",
       "      <td>No</td>\n",
       "    </tr>\n",
       "    <tr>\n",
       "      <th>593</th>\n",
       "      <td>40</td>\n",
       "      <td>B</td>\n",
       "      <td>Admit to Ward for Care</td>\n",
       "      <td>39.0</td>\n",
       "      <td>No</td>\n",
       "      <td>No</td>\n",
       "      <td>No</td>\n",
       "    </tr>\n",
       "    <tr>\n",
       "      <th>594</th>\n",
       "      <td>18</td>\n",
       "      <td>A</td>\n",
       "      <td>Admit to Ward for Care</td>\n",
       "      <td>39.1</td>\n",
       "      <td>No</td>\n",
       "      <td>No</td>\n",
       "      <td>No</td>\n",
       "    </tr>\n",
       "    <tr>\n",
       "      <th>595</th>\n",
       "      <td>33</td>\n",
       "      <td>A</td>\n",
       "      <td>Admit to Ward for Care</td>\n",
       "      <td>38.9</td>\n",
       "      <td>No</td>\n",
       "      <td>No</td>\n",
       "      <td>No</td>\n",
       "    </tr>\n",
       "    <tr>\n",
       "      <th>596</th>\n",
       "      <td>24</td>\n",
       "      <td>B</td>\n",
       "      <td>Admit to Ward for Care</td>\n",
       "      <td>37.3</td>\n",
       "      <td>No</td>\n",
       "      <td>Yes</td>\n",
       "      <td>No</td>\n",
       "    </tr>\n",
       "  </tbody>\n",
       "</table>\n",
       "</div>"
      ],
      "text/plain": [
       "     Age Grade               Logistics  Temperature Pneumonia Hypertension  \\\n",
       "592   54     A  Admit to Ward for Care         39.9        No           No   \n",
       "593   40     B  Admit to Ward for Care         39.0        No           No   \n",
       "594   18     A  Admit to Ward for Care         39.1        No           No   \n",
       "595   33     A  Admit to Ward for Care         38.9        No           No   \n",
       "596   24     B  Admit to Ward for Care         37.3        No          Yes   \n",
       "\n",
       "    DiabetesMellitus  \n",
       "592               No  \n",
       "593               No  \n",
       "594               No  \n",
       "595               No  \n",
       "596               No  "
      ]
     },
     "execution_count": 9,
     "metadata": {},
     "output_type": "execute_result"
    }
   ],
   "source": [
    "df.tail()"
   ]
  },
  {
   "cell_type": "code",
   "execution_count": 13,
   "id": "6fb9fd0e-8f1c-434e-9b8b-35a5ffab49a1",
   "metadata": {},
   "outputs": [
    {
     "data": {
      "text/plain": [
       "Index(['Age', 'Grade', 'Logistics', 'Temperature', 'Pneumonia', 'Hypertension',\n",
       "       'DiabetesMellitus'],\n",
       "      dtype='object')"
      ]
     },
     "execution_count": 13,
     "metadata": {},
     "output_type": "execute_result"
    }
   ],
   "source": [
    "df.columns"
   ]
  },
  {
   "cell_type": "code",
   "execution_count": 15,
   "id": "ca4d2ade-fc70-4a97-a9fe-7b4ea156b0eb",
   "metadata": {},
   "outputs": [
    {
     "data": {
      "text/plain": [
       "597"
      ]
     },
     "execution_count": 15,
     "metadata": {},
     "output_type": "execute_result"
    }
   ],
   "source": [
    "len(df)"
   ]
  },
  {
   "cell_type": "code",
   "execution_count": 17,
   "id": "879a8603-3cd0-47d4-bd88-21b44f60bea8",
   "metadata": {},
   "outputs": [
    {
     "data": {
      "text/plain": [
       "(597, 7)"
      ]
     },
     "execution_count": 17,
     "metadata": {},
     "output_type": "execute_result"
    }
   ],
   "source": [
    "df.shape"
   ]
  },
  {
   "cell_type": "code",
   "execution_count": 21,
   "id": "c692f91f-d48e-4775-88fd-0644e078f714",
   "metadata": {},
   "outputs": [
    {
     "data": {
      "text/plain": [
       "597"
      ]
     },
     "execution_count": 21,
     "metadata": {},
     "output_type": "execute_result"
    }
   ],
   "source": [
    "df.shape[0]"
   ]
  },
  {
   "cell_type": "code",
   "execution_count": 23,
   "id": "b72c34bc-7765-489e-b6e4-a2b549fffa90",
   "metadata": {},
   "outputs": [
    {
     "data": {
      "text/plain": [
       "7"
      ]
     },
     "execution_count": 23,
     "metadata": {},
     "output_type": "execute_result"
    }
   ],
   "source": [
    "df.shape[1]"
   ]
  },
  {
   "cell_type": "code",
   "execution_count": 25,
   "id": "505a347e-78ad-44b4-acd0-b01c29c5e197",
   "metadata": {},
   "outputs": [
    {
     "data": {
      "text/plain": [
       "0      37.4\n",
       "1      38.0\n",
       "2      38.5\n",
       "3      38.2\n",
       "4      38.1\n",
       "       ... \n",
       "592    39.9\n",
       "593    39.0\n",
       "594    39.1\n",
       "595    38.9\n",
       "596    37.3\n",
       "Name: Temperature, Length: 597, dtype: float64"
      ]
     },
     "execution_count": 25,
     "metadata": {},
     "output_type": "execute_result"
    }
   ],
   "source": [
    "df.Temperature"
   ]
  },
  {
   "cell_type": "code",
   "execution_count": 27,
   "id": "822cc143-fdbc-4825-afad-44a197d00848",
   "metadata": {},
   "outputs": [
    {
     "data": {
      "text/plain": [
       "0      37.4\n",
       "1      38.0\n",
       "2      38.5\n",
       "3      38.2\n",
       "4      38.1\n",
       "       ... \n",
       "592    39.9\n",
       "593    39.0\n",
       "594    39.1\n",
       "595    38.9\n",
       "596    37.3\n",
       "Name: Temperature, Length: 597, dtype: float64"
      ]
     },
     "execution_count": 27,
     "metadata": {},
     "output_type": "execute_result"
    }
   ],
   "source": [
    "df[\"Temperature\"]"
   ]
  },
  {
   "cell_type": "code",
   "execution_count": 31,
   "id": "8011ebf3-7762-454a-be31-40948691ef80",
   "metadata": {},
   "outputs": [
    {
     "data": {
      "text/plain": [
       "0      B\n",
       "1      A\n",
       "2      A\n",
       "3      A\n",
       "4      B\n",
       "      ..\n",
       "592    A\n",
       "593    B\n",
       "594    A\n",
       "595    A\n",
       "596    B\n",
       "Name: Grade, Length: 597, dtype: object"
      ]
     },
     "execution_count": 31,
     "metadata": {},
     "output_type": "execute_result"
    }
   ],
   "source": [
    "df.Grade"
   ]
  },
  {
   "cell_type": "code",
   "execution_count": 33,
   "id": "51f72a83-0309-45d3-9495-fcbfb8930466",
   "metadata": {},
   "outputs": [
    {
     "data": {
      "text/html": [
       "<div>\n",
       "<style scoped>\n",
       "    .dataframe tbody tr th:only-of-type {\n",
       "        vertical-align: middle;\n",
       "    }\n",
       "\n",
       "    .dataframe tbody tr th {\n",
       "        vertical-align: top;\n",
       "    }\n",
       "\n",
       "    .dataframe thead th {\n",
       "        text-align: right;\n",
       "    }\n",
       "</style>\n",
       "<table border=\"1\" class=\"dataframe\">\n",
       "  <thead>\n",
       "    <tr style=\"text-align: right;\">\n",
       "      <th></th>\n",
       "      <th>Age</th>\n",
       "      <th>Grade</th>\n",
       "      <th>Logistics</th>\n",
       "      <th>Temperature</th>\n",
       "      <th>Pneumonia</th>\n",
       "      <th>Hypertension</th>\n",
       "      <th>DiabetesMellitus</th>\n",
       "    </tr>\n",
       "  </thead>\n",
       "  <tbody>\n",
       "    <tr>\n",
       "      <th>1</th>\n",
       "      <td>64</td>\n",
       "      <td>A</td>\n",
       "      <td>Admit to Ward for Care</td>\n",
       "      <td>38.0</td>\n",
       "      <td>No</td>\n",
       "      <td>Yes</td>\n",
       "      <td>No</td>\n",
       "    </tr>\n",
       "    <tr>\n",
       "      <th>2</th>\n",
       "      <td>87</td>\n",
       "      <td>A</td>\n",
       "      <td>Admit to Ward for Care</td>\n",
       "      <td>38.5</td>\n",
       "      <td>No</td>\n",
       "      <td>No</td>\n",
       "      <td>No</td>\n",
       "    </tr>\n",
       "    <tr>\n",
       "      <th>3</th>\n",
       "      <td>70</td>\n",
       "      <td>A</td>\n",
       "      <td>Admit to Ward for Care</td>\n",
       "      <td>38.2</td>\n",
       "      <td>No</td>\n",
       "      <td>No</td>\n",
       "      <td>No</td>\n",
       "    </tr>\n",
       "    <tr>\n",
       "      <th>7</th>\n",
       "      <td>29</td>\n",
       "      <td>A</td>\n",
       "      <td>Admit to Ward for Care</td>\n",
       "      <td>38.1</td>\n",
       "      <td>No</td>\n",
       "      <td>Yes</td>\n",
       "      <td>No</td>\n",
       "    </tr>\n",
       "    <tr>\n",
       "      <th>8</th>\n",
       "      <td>73</td>\n",
       "      <td>A</td>\n",
       "      <td>Admit to Ward for Care</td>\n",
       "      <td>37.9</td>\n",
       "      <td>No</td>\n",
       "      <td>No</td>\n",
       "      <td>No</td>\n",
       "    </tr>\n",
       "    <tr>\n",
       "      <th>...</th>\n",
       "      <td>...</td>\n",
       "      <td>...</td>\n",
       "      <td>...</td>\n",
       "      <td>...</td>\n",
       "      <td>...</td>\n",
       "      <td>...</td>\n",
       "      <td>...</td>\n",
       "    </tr>\n",
       "    <tr>\n",
       "      <th>589</th>\n",
       "      <td>61</td>\n",
       "      <td>A</td>\n",
       "      <td>Consultation only (leave in original ward)</td>\n",
       "      <td>36.0</td>\n",
       "      <td>No</td>\n",
       "      <td>No</td>\n",
       "      <td>No</td>\n",
       "    </tr>\n",
       "    <tr>\n",
       "      <th>590</th>\n",
       "      <td>60</td>\n",
       "      <td>A</td>\n",
       "      <td>Consultation only (leave in original ward)</td>\n",
       "      <td>37.9</td>\n",
       "      <td>No</td>\n",
       "      <td>No</td>\n",
       "      <td>No</td>\n",
       "    </tr>\n",
       "    <tr>\n",
       "      <th>592</th>\n",
       "      <td>54</td>\n",
       "      <td>A</td>\n",
       "      <td>Admit to Ward for Care</td>\n",
       "      <td>39.9</td>\n",
       "      <td>No</td>\n",
       "      <td>No</td>\n",
       "      <td>No</td>\n",
       "    </tr>\n",
       "    <tr>\n",
       "      <th>594</th>\n",
       "      <td>18</td>\n",
       "      <td>A</td>\n",
       "      <td>Admit to Ward for Care</td>\n",
       "      <td>39.1</td>\n",
       "      <td>No</td>\n",
       "      <td>No</td>\n",
       "      <td>No</td>\n",
       "    </tr>\n",
       "    <tr>\n",
       "      <th>595</th>\n",
       "      <td>33</td>\n",
       "      <td>A</td>\n",
       "      <td>Admit to Ward for Care</td>\n",
       "      <td>38.9</td>\n",
       "      <td>No</td>\n",
       "      <td>No</td>\n",
       "      <td>No</td>\n",
       "    </tr>\n",
       "  </tbody>\n",
       "</table>\n",
       "<p>336 rows × 7 columns</p>\n",
       "</div>"
      ],
      "text/plain": [
       "     Age Grade                                   Logistics  Temperature  \\\n",
       "1     64     A                      Admit to Ward for Care         38.0   \n",
       "2     87     A                      Admit to Ward for Care         38.5   \n",
       "3     70     A                      Admit to Ward for Care         38.2   \n",
       "7     29     A                      Admit to Ward for Care         38.1   \n",
       "8     73     A                      Admit to Ward for Care         37.9   \n",
       "..   ...   ...                                         ...          ...   \n",
       "589   61     A  Consultation only (leave in original ward)         36.0   \n",
       "590   60     A  Consultation only (leave in original ward)         37.9   \n",
       "592   54     A                      Admit to Ward for Care         39.9   \n",
       "594   18     A                      Admit to Ward for Care         39.1   \n",
       "595   33     A                      Admit to Ward for Care         38.9   \n",
       "\n",
       "    Pneumonia Hypertension DiabetesMellitus  \n",
       "1          No          Yes               No  \n",
       "2          No           No               No  \n",
       "3          No           No               No  \n",
       "7          No          Yes               No  \n",
       "8          No           No               No  \n",
       "..        ...          ...              ...  \n",
       "589        No           No               No  \n",
       "590        No           No               No  \n",
       "592        No           No               No  \n",
       "594        No           No               No  \n",
       "595        No           No               No  \n",
       "\n",
       "[336 rows x 7 columns]"
      ]
     },
     "execution_count": 33,
     "metadata": {},
     "output_type": "execute_result"
    }
   ],
   "source": [
    "df[df.Grade==\"A\"]"
   ]
  },
  {
   "cell_type": "code",
   "execution_count": 35,
   "id": "7e20760e-c44b-4e19-bdd2-b9c3c6759187",
   "metadata": {},
   "outputs": [
    {
     "data": {
      "text/html": [
       "<div>\n",
       "<style scoped>\n",
       "    .dataframe tbody tr th:only-of-type {\n",
       "        vertical-align: middle;\n",
       "    }\n",
       "\n",
       "    .dataframe tbody tr th {\n",
       "        vertical-align: top;\n",
       "    }\n",
       "\n",
       "    .dataframe thead th {\n",
       "        text-align: right;\n",
       "    }\n",
       "</style>\n",
       "<table border=\"1\" class=\"dataframe\">\n",
       "  <thead>\n",
       "    <tr style=\"text-align: right;\">\n",
       "      <th></th>\n",
       "      <th>Age</th>\n",
       "      <th>Grade</th>\n",
       "      <th>Logistics</th>\n",
       "      <th>Temperature</th>\n",
       "      <th>Pneumonia</th>\n",
       "      <th>Hypertension</th>\n",
       "      <th>DiabetesMellitus</th>\n",
       "    </tr>\n",
       "  </thead>\n",
       "  <tbody>\n",
       "    <tr>\n",
       "      <th>0</th>\n",
       "      <td>77</td>\n",
       "      <td>B</td>\n",
       "      <td>Immediate Surgical intervention(then Ward / IC...</td>\n",
       "      <td>37.4</td>\n",
       "      <td>No</td>\n",
       "      <td>No</td>\n",
       "      <td>No</td>\n",
       "    </tr>\n",
       "    <tr>\n",
       "      <th>4</th>\n",
       "      <td>85</td>\n",
       "      <td>B</td>\n",
       "      <td>Admit to Ward for Care</td>\n",
       "      <td>38.1</td>\n",
       "      <td>No</td>\n",
       "      <td>Yes</td>\n",
       "      <td>No</td>\n",
       "    </tr>\n",
       "    <tr>\n",
       "      <th>5</th>\n",
       "      <td>30</td>\n",
       "      <td>B</td>\n",
       "      <td>Immediate Surgical intervention(then Ward / IC...</td>\n",
       "      <td>37.1</td>\n",
       "      <td>No</td>\n",
       "      <td>Yes</td>\n",
       "      <td>Yes</td>\n",
       "    </tr>\n",
       "    <tr>\n",
       "      <th>6</th>\n",
       "      <td>60</td>\n",
       "      <td>B</td>\n",
       "      <td>Admit to Ward for Care</td>\n",
       "      <td>38.0</td>\n",
       "      <td>No</td>\n",
       "      <td>Yes</td>\n",
       "      <td>No</td>\n",
       "    </tr>\n",
       "    <tr>\n",
       "      <th>11</th>\n",
       "      <td>74</td>\n",
       "      <td>B</td>\n",
       "      <td>Admit to Ward for Care</td>\n",
       "      <td>39.1</td>\n",
       "      <td>Yes</td>\n",
       "      <td>Yes</td>\n",
       "      <td>Yes</td>\n",
       "    </tr>\n",
       "    <tr>\n",
       "      <th>...</th>\n",
       "      <td>...</td>\n",
       "      <td>...</td>\n",
       "      <td>...</td>\n",
       "      <td>...</td>\n",
       "      <td>...</td>\n",
       "      <td>...</td>\n",
       "      <td>...</td>\n",
       "    </tr>\n",
       "    <tr>\n",
       "      <th>586</th>\n",
       "      <td>65</td>\n",
       "      <td>B</td>\n",
       "      <td>Admit to Ward for Care</td>\n",
       "      <td>35.9</td>\n",
       "      <td>No</td>\n",
       "      <td>No</td>\n",
       "      <td>No</td>\n",
       "    </tr>\n",
       "    <tr>\n",
       "      <th>587</th>\n",
       "      <td>37</td>\n",
       "      <td>B</td>\n",
       "      <td>Admit to Ward for Care</td>\n",
       "      <td>38.7</td>\n",
       "      <td>No</td>\n",
       "      <td>No</td>\n",
       "      <td>No</td>\n",
       "    </tr>\n",
       "    <tr>\n",
       "      <th>591</th>\n",
       "      <td>54</td>\n",
       "      <td>B</td>\n",
       "      <td>Consultation only (leave in original ward)</td>\n",
       "      <td>38.0</td>\n",
       "      <td>No</td>\n",
       "      <td>No</td>\n",
       "      <td>No</td>\n",
       "    </tr>\n",
       "    <tr>\n",
       "      <th>593</th>\n",
       "      <td>40</td>\n",
       "      <td>B</td>\n",
       "      <td>Admit to Ward for Care</td>\n",
       "      <td>39.0</td>\n",
       "      <td>No</td>\n",
       "      <td>No</td>\n",
       "      <td>No</td>\n",
       "    </tr>\n",
       "    <tr>\n",
       "      <th>596</th>\n",
       "      <td>24</td>\n",
       "      <td>B</td>\n",
       "      <td>Admit to Ward for Care</td>\n",
       "      <td>37.3</td>\n",
       "      <td>No</td>\n",
       "      <td>Yes</td>\n",
       "      <td>No</td>\n",
       "    </tr>\n",
       "  </tbody>\n",
       "</table>\n",
       "<p>261 rows × 7 columns</p>\n",
       "</div>"
      ],
      "text/plain": [
       "     Age Grade                                          Logistics  \\\n",
       "0     77     B  Immediate Surgical intervention(then Ward / IC...   \n",
       "4     85     B                             Admit to Ward for Care   \n",
       "5     30     B  Immediate Surgical intervention(then Ward / IC...   \n",
       "6     60     B                             Admit to Ward for Care   \n",
       "11    74     B                             Admit to Ward for Care   \n",
       "..   ...   ...                                                ...   \n",
       "586   65     B                             Admit to Ward for Care   \n",
       "587   37     B                             Admit to Ward for Care   \n",
       "591   54     B         Consultation only (leave in original ward)   \n",
       "593   40     B                             Admit to Ward for Care   \n",
       "596   24     B                             Admit to Ward for Care   \n",
       "\n",
       "     Temperature Pneumonia Hypertension DiabetesMellitus  \n",
       "0           37.4        No           No               No  \n",
       "4           38.1        No          Yes               No  \n",
       "5           37.1        No          Yes              Yes  \n",
       "6           38.0        No          Yes               No  \n",
       "11          39.1       Yes          Yes              Yes  \n",
       "..           ...       ...          ...              ...  \n",
       "586         35.9        No           No               No  \n",
       "587         38.7        No           No               No  \n",
       "591         38.0        No           No               No  \n",
       "593         39.0        No           No               No  \n",
       "596         37.3        No          Yes               No  \n",
       "\n",
       "[261 rows x 7 columns]"
      ]
     },
     "execution_count": 35,
     "metadata": {},
     "output_type": "execute_result"
    }
   ],
   "source": [
    "df[df.Grade!=\"A\"]"
   ]
  },
  {
   "cell_type": "code",
   "execution_count": null,
   "id": "7bb25321-3923-4744-9f44-992455af7f1f",
   "metadata": {},
   "outputs": [],
   "source": []
  },
  {
   "cell_type": "code",
   "execution_count": null,
   "id": "af7de35d-ec16-4742-b6f8-14a80da58cfa",
   "metadata": {},
   "outputs": [],
   "source": []
  },
  {
   "cell_type": "code",
   "execution_count": null,
   "id": "7126ad41-4479-43a0-897c-46e6c8e1a26b",
   "metadata": {},
   "outputs": [],
   "source": []
  },
  {
   "cell_type": "code",
   "execution_count": null,
   "id": "6d21d268-9844-4690-963a-68ce0d0fc1eb",
   "metadata": {},
   "outputs": [],
   "source": []
  },
  {
   "cell_type": "code",
   "execution_count": null,
   "id": "c6db1884-cb31-49f9-a50d-9ae0ecc2381e",
   "metadata": {},
   "outputs": [],
   "source": []
  }
 ],
 "metadata": {
  "kernelspec": {
   "display_name": "Python [conda env:base] *",
   "language": "python",
   "name": "conda-base-py"
  },
  "language_info": {
   "codemirror_mode": {
    "name": "ipython",
    "version": 3
   },
   "file_extension": ".py",
   "mimetype": "text/x-python",
   "name": "python",
   "nbconvert_exporter": "python",
   "pygments_lexer": "ipython3",
   "version": "3.12.7"
  }
 },
 "nbformat": 4,
 "nbformat_minor": 5
}
